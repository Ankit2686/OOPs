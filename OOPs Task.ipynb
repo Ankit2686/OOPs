{
 "cells": [
  {
   "cell_type": "code",
   "execution_count": null,
   "id": "7b694515-130e-418d-a012-f78c8edaa1a4",
   "metadata": {},
   "outputs": [],
   "source": [
    "#OOPs Task"
   ]
  },
  {
   "cell_type": "code",
   "execution_count": null,
   "id": "00ea7d58-a1b3-4e5b-a9cc-6b79fdcee9dc",
   "metadata": {},
   "outputs": [],
   "source": [
    "#Q1. Create a Vehicle class with an __init__ method having instance variables as name_of_vehicle, max_speed, and average_of_vehicle."
   ]
  },
  {
   "cell_type": "code",
   "execution_count": 3,
   "id": "4a0c3dab-7561-4c8f-879b-61b68dd9752a",
   "metadata": {},
   "outputs": [],
   "source": [
    "#answer 1\n",
    "\n",
    "class vehicle:\n",
    "    \n",
    "    def __init__(self,name_of_vehicle, max_speed, average_of_vehicle):\n",
    "        self.name_of_vehicle = name_of_vehicle\n",
    "        self.max_speed = max_speed\n",
    "        self.average_of_vehicle = average_of_vehicle\n",
    "        \n",
    "    def vehicle_details(self): \n",
    "        print (self.name_of_vehicle, self.max_speed, self.average_of_vehicle)"
   ]
  },
  {
   "cell_type": "code",
   "execution_count": 4,
   "id": "b0b97f17-21a4-4c2d-a892-239a65f7a9be",
   "metadata": {},
   "outputs": [],
   "source": [
    "pw1 = vehicle( \"Thar\", 280, 80)"
   ]
  },
  {
   "cell_type": "code",
   "execution_count": 5,
   "id": "96f091eb-4f27-43a6-bd3b-343f58ad178f",
   "metadata": {},
   "outputs": [
    {
     "data": {
      "text/plain": [
       "80"
      ]
     },
     "execution_count": 5,
     "metadata": {},
     "output_type": "execute_result"
    }
   ],
   "source": [
    "pw1.average_of_vehicle"
   ]
  },
  {
   "cell_type": "code",
   "execution_count": 6,
   "id": "2c14f4bb-a34a-4b39-ae80-5c3d123da700",
   "metadata": {},
   "outputs": [
    {
     "data": {
      "text/plain": [
       "'Thar'"
      ]
     },
     "execution_count": 6,
     "metadata": {},
     "output_type": "execute_result"
    }
   ],
   "source": [
    "pw1.name_of_vehicle"
   ]
  },
  {
   "cell_type": "code",
   "execution_count": 7,
   "id": "6020ce8b-d750-44b3-8488-aacd8b989020",
   "metadata": {},
   "outputs": [
    {
     "name": "stdout",
     "output_type": "stream",
     "text": [
      "Thar 280 80\n"
     ]
    }
   ],
   "source": [
    "pw1.vehicle_details()"
   ]
  },
  {
   "cell_type": "code",
   "execution_count": 8,
   "id": "723efbf3-47e1-43e2-bb32-fd86cc4405f9",
   "metadata": {},
   "outputs": [],
   "source": [
    "#Q2. Create a child class Car from the Vehicle class created in Q1, which will inherit the Vehicle class. Create a method named seating_capacity which takes capacity as an argument and returns the name of the vehicle and its seating capacity."
   ]
  },
  {
   "cell_type": "code",
   "execution_count": 9,
   "id": "be02e006-dad0-41fd-a0f3-35fa421748e1",
   "metadata": {},
   "outputs": [],
   "source": [
    "class Car(vehicle):\n",
    "    def seating_capacity(self, capacity):\n",
    "        return f\"{self.name_of_vehicle} has a seating capacity of {capacity} passengers.\""
   ]
  },
  {
   "cell_type": "code",
   "execution_count": 10,
   "id": "2e13bf4e-4e60-4126-8ee3-3d194b36958b",
   "metadata": {},
   "outputs": [
    {
     "name": "stdout",
     "output_type": "stream",
     "text": [
      "Thar has a seating capacity of 4 passengers.\n"
     ]
    }
   ],
   "source": [
    "pw1 = Car(\"Thar\", 280, 80)\n",
    "print(pw1.seating_capacity(4))"
   ]
  },
  {
   "cell_type": "code",
   "execution_count": 11,
   "id": "bf98a74a-3f30-4cb4-ab3f-bb3654522a5a",
   "metadata": {},
   "outputs": [],
   "source": [
    "#Q3. What is multiple inheritance? Write a Python code to demonstrate multiple inheritance."
   ]
  },
  {
   "cell_type": "code",
   "execution_count": 12,
   "id": "052b2b57-22d6-4352-b1e1-9aa74bb26e5f",
   "metadata": {},
   "outputs": [],
   "source": [
    "\n",
    "class heart_func:\n",
    "    def heart(self): \n",
    "        return \"blood pumping\"\n",
    "    \n",
    "class lung_func:\n",
    "    def lung(self):\n",
    "        return \"Transportation of gaes\"\n",
    "    \n",
    "class kidney_func(heart_func,lung_func ):\n",
    "    def kidney (self):\n",
    "        return \"Filtration of blood\""
   ]
  },
  {
   "cell_type": "code",
   "execution_count": 13,
   "id": "a58788e9-42a2-479b-b191-cdfb51d896f4",
   "metadata": {},
   "outputs": [],
   "source": [
    "pw2 = kidney_func()"
   ]
  },
  {
   "cell_type": "code",
   "execution_count": 14,
   "id": "ba56e616-7208-4001-b612-915b2d10dfd3",
   "metadata": {},
   "outputs": [
    {
     "data": {
      "text/plain": [
       "('blood pumping', 'Transportation of gaes', 'Filtration of blood')"
      ]
     },
     "execution_count": 14,
     "metadata": {},
     "output_type": "execute_result"
    }
   ],
   "source": [
    "pw2.heart(), pw2.lung(), pw2.kidney()"
   ]
  },
  {
   "cell_type": "code",
   "execution_count": 15,
   "id": "a09cce0c-433b-42b4-9153-68dda22bd933",
   "metadata": {},
   "outputs": [],
   "source": [
    "#Q4. What are getters and setters in Python? Create a class and create a getter and a setter method in this class."
   ]
  },
  {
   "cell_type": "code",
   "execution_count": 121,
   "id": "c267fecd-96c5-4dfa-9628-101ab4b7c643",
   "metadata": {},
   "outputs": [],
   "source": [
    "#Getters and setters in Python are methods used to access and modify the values of private instance variables. They help in encapsulating the data and adding validation logic whenever necessary.\n",
    "\n",
    "class emp_details:\n",
    "    \n",
    "    def __init__(self, name, emp_id):\n",
    "        self.__name = name\n",
    "        self.__emp_id = emp_id\n",
    "        \n",
    "    @property\n",
    "    def name(self):\n",
    "        return self.__name\n",
    "    \n",
    "    @name.setter\n",
    "    \n",
    "    def name(self, value):\n",
    "        self.name = value\n",
    "        \n",
    "    @property\n",
    "\n",
    "    def emp_id(self):\n",
    "        return self.__emp_id\n",
    "        \n",
    "    @emp_id.setter\n",
    "    def emp_id(self, value):\n",
    "        if valu< 125:\n",
    "            self.__emp_id = value\n",
    "        else :\n",
    "            return \"new empolye\""
   ]
  },
  {
   "cell_type": "code",
   "execution_count": 122,
   "id": "1865f3d0-e75e-47a8-948a-c2b393614cb3",
   "metadata": {},
   "outputs": [],
   "source": [
    "pw4 = emp_details(\"ankit\", 125)"
   ]
  },
  {
   "cell_type": "code",
   "execution_count": 65,
   "id": "8867682a-f6a0-43f3-8013-795008289567",
   "metadata": {},
   "outputs": [
    {
     "data": {
      "text/plain": [
       "125"
      ]
     },
     "execution_count": 65,
     "metadata": {},
     "output_type": "execute_result"
    }
   ],
   "source": [
    "pw4._emp_details__emp_id"
   ]
  },
  {
   "cell_type": "code",
   "execution_count": 70,
   "id": "f8ef7de0-d4c8-463c-87de-836e570718fc",
   "metadata": {},
   "outputs": [
    {
     "data": {
      "text/plain": [
       "'ankit'"
      ]
     },
     "execution_count": 70,
     "metadata": {},
     "output_type": "execute_result"
    }
   ],
   "source": [
    "pw4.name"
   ]
  },
  {
   "cell_type": "code",
   "execution_count": 68,
   "id": "9f685176-a47b-4eef-905f-ca5a8ce99a6c",
   "metadata": {},
   "outputs": [
    {
     "data": {
      "text/plain": [
       "125"
      ]
     },
     "execution_count": 68,
     "metadata": {},
     "output_type": "execute_result"
    }
   ],
   "source": [
    "pw4.emp_id()"
   ]
  },
  {
   "cell_type": "code",
   "execution_count": 79,
   "id": "d0009251-5d18-4828-b24b-7de85325cfd2",
   "metadata": {},
   "outputs": [],
   "source": [
    "emp_details.name = \"vijay\""
   ]
  },
  {
   "cell_type": "code",
   "execution_count": 80,
   "id": "3536f02e-5230-4554-ad81-781482b2c99d",
   "metadata": {},
   "outputs": [
    {
     "data": {
      "text/plain": [
       "'vijay'"
      ]
     },
     "execution_count": 80,
     "metadata": {},
     "output_type": "execute_result"
    }
   ],
   "source": [
    "pw4.name"
   ]
  },
  {
   "cell_type": "code",
   "execution_count": 123,
   "id": "e3e09022-3589-41be-9d3e-382772959b63",
   "metadata": {},
   "outputs": [],
   "source": [
    "emp_details.emp_id = 120"
   ]
  },
  {
   "cell_type": "code",
   "execution_count": 124,
   "id": "9eeec04b-b562-40ba-99e8-b3ef8166404a",
   "metadata": {},
   "outputs": [
    {
     "data": {
      "text/plain": [
       "120"
      ]
     },
     "execution_count": 124,
     "metadata": {},
     "output_type": "execute_result"
    }
   ],
   "source": [
    "pw4.emp_id"
   ]
  },
  {
   "cell_type": "code",
   "execution_count": 125,
   "id": "889913b3-0f0a-49c0-b079-ea918103b2cd",
   "metadata": {},
   "outputs": [],
   "source": [
    "emp_details.emp_id = 160"
   ]
  },
  {
   "cell_type": "code",
   "execution_count": 126,
   "id": "db96232b-4185-49b6-a114-ea5286762425",
   "metadata": {},
   "outputs": [
    {
     "data": {
      "text/plain": [
       "160"
      ]
     },
     "execution_count": 126,
     "metadata": {},
     "output_type": "execute_result"
    }
   ],
   "source": [
    "pw4.emp_id"
   ]
  },
  {
   "cell_type": "code",
   "execution_count": null,
   "id": "4b4a24ca-c11e-4e75-b89e-ea4b3cc46e00",
   "metadata": {},
   "outputs": [],
   "source": [
    "#Q5. What is method overriding in Python? Write a Python code to demonstrate method overriding."
   ]
  },
  {
   "cell_type": "code",
   "execution_count": 136,
   "id": "b5049c42-3464-43a2-81b8-046bf95bd513",
   "metadata": {},
   "outputs": [],
   "source": [
    "class animal:\n",
    "    def breath(self):\n",
    "        return \"by lungs\"\n",
    "    \n",
    "class pisces(animal):\n",
    "    def breath(self):\n",
    "        return \"by gills\"\n",
    "    \n",
    "Animal = animal()\n",
    "Pisces =  pisces()      "
   ]
  },
  {
   "cell_type": "code",
   "execution_count": 139,
   "id": "bfdd32a0-f1e5-4379-a7bd-5f395e02011d",
   "metadata": {},
   "outputs": [
    {
     "data": {
      "text/plain": [
       "'by lungs'"
      ]
     },
     "execution_count": 139,
     "metadata": {},
     "output_type": "execute_result"
    }
   ],
   "source": [
    "Animal.breath()"
   ]
  },
  {
   "cell_type": "code",
   "execution_count": 140,
   "id": "793d200b-9e55-45cc-a9b0-01a0f88330b9",
   "metadata": {},
   "outputs": [
    {
     "data": {
      "text/plain": [
       "'by gills'"
      ]
     },
     "execution_count": 140,
     "metadata": {},
     "output_type": "execute_result"
    }
   ],
   "source": [
    "Pisces.breath()"
   ]
  },
  {
   "cell_type": "code",
   "execution_count": null,
   "id": "1f97b34c-c03d-4b05-b565-87085c9ad051",
   "metadata": {},
   "outputs": [],
   "source": []
  }
 ],
 "metadata": {
  "kernelspec": {
   "display_name": "Python 3 (ipykernel)",
   "language": "python",
   "name": "python3"
  },
  "language_info": {
   "codemirror_mode": {
    "name": "ipython",
    "version": 3
   },
   "file_extension": ".py",
   "mimetype": "text/x-python",
   "name": "python",
   "nbconvert_exporter": "python",
   "pygments_lexer": "ipython3",
   "version": "3.10.8"
  }
 },
 "nbformat": 4,
 "nbformat_minor": 5
}
